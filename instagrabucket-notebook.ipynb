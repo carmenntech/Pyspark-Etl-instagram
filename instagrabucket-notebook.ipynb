{
 "cells": [
  {
   "cell_type": "code",
   "execution_count": 32,
   "metadata": {},
   "outputs": [
    {
     "name": "stdout",
     "output_type": "stream",
     "text": [
      "Calculation started (calculation_id=a0c94540-15be-ed60-9a77-ef192211be37) in (session=f6c94521-1883-bdc3-703e-aeb62a50bf5b). Checking calculation status...\n"
     ]
    },
    {
     "data": {
      "application/vnd.jupyter.widget-view+json": {
       "model_id": "671727e7ef2c4e39b3ccd00b52cd75cd",
       "version_major": 2,
       "version_minor": 0
      },
      "text/plain": [
       "Progress:   0%|          |elapsed time = 00:00s"
      ]
     },
     "metadata": {},
     "output_type": "display_data"
    },
    {
     "name": "stdout",
     "output_type": "stream",
     "text": [
      "Calculation completed.\n",
      "root\n",
      " |-- id: string (nullable = true)\n",
      " |-- comentario: integer (nullable = true)\n",
      " |-- like: integer (nullable = true)\n",
      " |-- fecha: date (nullable = true)\n",
      " |-- tipopublicacion: string (nullable = true)\n",
      " |-- old-visualizaciones: integer (nullable = true)\n",
      " |-- visualizaciones: integer (nullable = true)\n",
      " |-- titulo: string (nullable = true)\n",
      "\n"
     ]
    }
   ],
   "source": [
    "from pyspark.sql.functions import col\n",
    "from pyspark.sql.types import IntegerType, DateType\n",
    "\n",
    "file = 's3://instagrabucket/claudianicolasa/data_user_reels_claudianicolasa.csv'\n",
    "\n",
    "#Creamos un dataframe con el fichero del s3 e inferimos su esquema \n",
    "df = (spark.read.format(\"csv\")\n",
    "     .option(\"header\", \"true\")\n",
    "     .option(\"inferSchema\", \"true\")\n",
    "     .load(file))\n",
    "\n",
    "\n",
    "#Casteamos algunas de las columnas\n",
    "df = df.withColumn(\"comentario\", col(\"comentario\").cast(IntegerType()))\n",
    "df = df.withColumn(\"like\", col(\"like\").cast(IntegerType()))\n",
    "df = df.withColumn(\"old-visualizaciones\", col(\"old-visualizaciones\").cast(IntegerType()))\n",
    "df = df.withColumn(\"visualizaciones\", col(\"visualizaciones\").cast(IntegerType()))\n",
    "df = df.withColumn(\"fecha\", col(\"fecha\").cast(DateType()))\n",
    "\n",
    "\n",
    "df.printSchema()"
   ]
  },
  {
   "cell_type": "code",
   "execution_count": 33,
   "metadata": {},
   "outputs": [
    {
     "name": "stdout",
     "output_type": "stream",
     "text": [
      "Calculation started (calculation_id=62c94540-289a-f297-8972-d1018ee3c483) in (session=f6c94521-1883-bdc3-703e-aeb62a50bf5b). Checking calculation status...\n"
     ]
    },
    {
     "data": {
      "application/vnd.jupyter.widget-view+json": {
       "model_id": "d5eed5fd3f0f4021aff90902f1beb99f",
       "version_major": 2,
       "version_minor": 0
      },
      "text/plain": [
       "Progress:   0%|          |elapsed time = 00:00s"
      ]
     },
     "metadata": {},
     "output_type": "display_data"
    },
    {
     "name": "stdout",
     "output_type": "stream",
     "text": [
      "Calculation completed.\n",
      "+-------------------+----------+------+----------+---------------+-------------------+---------------+--------------------+\n",
      "|                 id|comentario|  like|     fecha|tipopublicacion|old-visualizaciones|visualizaciones|              titulo|\n",
      "+-------------------+----------+------+----------+---------------+-------------------+---------------+--------------------+\n",
      "|3419888659740098478|      1510| 15218|2024-07-25|              2|                  0|         437733|�Qu� hay detr�s d...|\n",
      "|3347684975409527463|      1043| 13909|2024-04-16|              2|                  0|         700267|Tr�iler del video...|\n",
      "|3278661036494926965|      4022|560067|2024-01-12|              2|                  0|       12738120|De nuevo 100% ide...|\n",
      "|3278157763677591613|      3195|761147|2024-01-11|              2|                  0|       21411370|  100% identificada |\n",
      "|3219914551532283513|      2100|310390|2023-10-23|              2|                  0|        8274587|Me he sentido dem...|\n",
      "|3187419293036912657|      2965|218080|2023-09-08|              2|                  0|        6552747|Creo que esta esc...|\n",
      "|3183620947147005467|      1080| 13443|2023-09-03|              2|                  0|         918407|MUY HEAVY ESTA ES...|\n",
      "|3419888659740098478|      1510| 15218|2024-07-25|              2|                  0|         437733|�Qu� hay detr�s d...|\n",
      "|3347684975409527463|      1043| 13909|2024-04-16|              2|                  0|         700267|Tr�iler del video...|\n",
      "|3278661036494926965|      4022|560067|2024-01-12|              2|                  0|       12738121|De nuevo 100% ide...|\n",
      "|3278157763677591613|      3195|761147|2024-01-11|              2|                  0|       21411370|  100% identificada |\n",
      "|3219914551532283513|      2100|310390|2023-10-23|              2|                  0|        8274587|Me he sentido dem...|\n",
      "|3187419293036912657|      2965|218080|2023-09-08|              2|                  0|        6552747|Creo que esta esc...|\n",
      "|3183620947147005467|      1080| 13443|2023-09-03|              2|                  0|         918407|MUY HEAVY ESTA ES...|\n",
      "+-------------------+----------+------+----------+---------------+-------------------+---------------+--------------------+\n",
      "\n"
     ]
    }
   ],
   "source": [
    "df.where(df[\"comentario\"]>1000).show()"
   ]
  },
  {
   "cell_type": "code",
   "execution_count": null,
   "metadata": {},
   "outputs": [],
   "source": []
  }
 ],
 "metadata": {
  "kernelspec": {
   "display_name": "Athena PySpark",
   "language": "python",
   "name": "kepler_python_kernel"
  },
  "language_info": {
   "codemirror_mode": {
    "name": "python",
    "version": 3
   },
   "file_extension": ".py",
   "mimetype": "text/x-python",
   "name": "Python_Session",
   "pygments_lexer": "python3"
  }
 },
 "nbformat": 4,
 "nbformat_minor": 1
}
