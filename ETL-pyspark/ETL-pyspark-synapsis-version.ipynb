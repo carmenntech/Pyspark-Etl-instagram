{
  "cells": [
    {
      "cell_type": "code",
      "source": [
        "from pyspark.sql.functions import split, explode, col, regexp_replace,  expr, array_join, trim, regexp_extract, concat_ws\n",
        "from pyspark.sql import SparkSession\n",
        "from pyspark.sql import functions as F\n",
        "import pyspark\n",
        "import collections\n",
        "import re\n",
        "from pyspark.sql.types import IntegerType, DateType, StringType, StructType, StructField\n",
        "\n",
        "# Crear una sesión de Spark\n",
        "spark = SparkSession.builder.appName(\"EjemploPySpark\").getOrCreate()\n",
        "\n",
        "# Ruta al archivo CSV\n",
        "file = 'abfss://fsinsta@datalcarmen.dfs.core.windows.net/data_user_reels_claudianicolasa.csv'\n",
        "\n",
        "lines = spark.sparkContext.textFile(file)\n",
        "\n",
        "'''\n",
        "El csv tiene el problema de que un campo esta ocupando una o varias filas del csv\n",
        "es_incompleta y unir_lineas_incompletas son dos metodos para solventar este problema\n",
        "es_incompleta para comprobar si el campo usa mas de una linea\n",
        "unir_lineas_incompletas para joinear esas lineas\n",
        "'''\n",
        "\n",
        "# Función para eliminar comas dentro de comillas dobles en una línea CSV\n",
        "def eliminar_comas_entre_comillas(line):\n",
        "    # Usamos una expresión regular que encuentra cualquier cosa entre comillas dobles\n",
        "    # y luego eliminamos las comas que están dentro de ese texto\n",
        "    return re.sub(r'\\\"(.*?)\\\"', lambda match: match.group(0).replace(\",\", \"\"), line)\n",
        "\n",
        "\n",
        "# Función para verificar si la línea está incompleta\n",
        "def es_incompleta(line):\n",
        "    # Verifica si la línea contiene un número impar de comillas dobles\n",
        "    return line.count('\"') % 2 != 0\n",
        "\n",
        "# Acumulamos las líneas hasta que tengamos una línea completa (con un número par de comillas)\n",
        "def unir_lineas_incompletas(rdd):\n",
        "    acumulado = []\n",
        "    resultados = []\n",
        "\n",
        "    for line in rdd.collect():\n",
        "        acumulado.append(line)\n",
        "        # Si la línea completa el conjunto de comillas\n",
        "        if not es_incompleta(\" \".join(acumulado)):\n",
        "            # Unimos las líneas acumuladas y las añadimos al resultado\n",
        "            resultados.append(\" \".join(acumulado))\n",
        "            acumulado = []\n",
        "    \n",
        "    return resultados\n",
        "\n",
        "# Unir las líneas mal formadas en el RDD\n",
        "lineas_corregidas = spark.sparkContext.parallelize(unir_lineas_incompletas(lines))\n",
        "\n",
        "\n",
        "# Aplicamos la función a cada línea corregida para eliminar las comas entre comillas\n",
        "rdd_sin_comas = lineas_corregidas.map(eliminar_comas_entre_comillas)\n",
        "\n",
        "# Ahora convertimos cada línea en una lista de columnas usando split por comas\n",
        "rdd_estructurado = rdd_sin_comas.map(lambda line: line.split(\",\"))\n",
        "\n",
        "\n",
        "# Creamos el schema del dataframe\n",
        "\n",
        "esquema = StructType([\n",
        "    StructField(\"id\", StringType(), True),\n",
        "    StructField(\"comentario\", StringType(), True),\n",
        "    StructField(\"like\", StringType(), True),\n",
        "    StructField(\"fecha\", StringType(), False),\n",
        "    StructField(\"tipopublicacion\", StringType(), True),\n",
        "    StructField(\"oldvisualizaciones\", StringType(), True),\n",
        "    StructField(\"visualizaciones\", StringType(), True),\n",
        "    StructField(\"titulo\", StringType(), False)\n",
        "])\n",
        "\n",
        "     \n",
        "# Convertimos el RDD en DataFrame usando toDF y asignamos nombres de columnas\n",
        "df = spark.createDataFrame(rdd_estructurado, schema=esquema)\n",
        "\n",
        "#df.printSchema()\n",
        "\n",
        "#PROCEDEMOS A TRANSFORMAR ALGUNAS COLUMNAS\n",
        "\n",
        "#Creamos una sola columna para las views\n",
        "df = df.withColumn(\"totalViews\", df.oldvisualizaciones + df.visualizaciones)\n",
        "\n",
        "#En cuanto al titulo lo dividimos en la parte de hastag y el resto\n",
        "df = df.withColumn(\"titulopublicacion\", split(df[\"titulo\"], \"#\").getItem(0)) \n",
        "df = df.withColumn(\"hashtagtodos\", regexp_replace(df[\"titulo\"], df[\"titulopublicacion\"], \"---\"))\n",
        "#df.select(\"hashtagtodos\").show(truncate=False)\n",
        "#df.select(\"titulopublicacion\").show(truncate=False)\n",
        "    #.withColumn(\"hastag2\", split(df[\"titulo\"], \"#\").getItem(1))\\\n",
        "      \n",
        "#creamos nuevas columnas en funcion de la fecha de publicacion -> año, mes, dia_semana, hora\n",
        "df = df.withColumn(\"fecha_anio\", split(df[\"fecha\"], \"-\").getItem(0)) \n",
        "df = df.withColumn(\"fecha_mes\", split(df[\"fecha\"], \"-\").getItem(1)) \n",
        "df = df.withColumn(\"fecha_hora\", split(df[\"fecha\"], \" \").getItem(1)) \n",
        "\n",
        "df = df.withColumn(\"fecha_timestamp\", F.to_timestamp(F.col(\"fecha\"), \"yyyy-MM-dd HH:mm:ssXXX\"))\n",
        "df = df.withColumn(\"fecha_hora_dia_semana\", F.date_format(F.col(\"fecha_timestamp\"), \"EEEE\"))\n",
        "\n",
        "#Creamos dos nuevas columnas para el engagement por like y por comentario \n",
        "df = df.withColumn(\"engagement_like\", df.like / df.totalViews)\n",
        "df = df.withColumn(\"engagement_comentario\", df.comentario / df.totalViews)\n",
        "#df.select(\"engagement_like\", \"engagement_comentario\").show(truncate=False)\n",
        "\n",
        "#Eliminamos todas las filas que sus campos son todos nulos\n",
        "df.na.drop()\n",
        "\n",
        "\n",
        "#ANALISIS\n",
        "\n",
        "display(df.groupBy(\"fecha_anio\").agg({\"totalViews\":\"sum\",\"like\":\"sum\", \"comentario\":\"sum\", \"id\": \"count\" }).orderBy(\"fecha_anio\", ascending=False))\n",
        "display(df.groupBy(\"fecha_mes\").agg({\"totalViews\":\"sum\",\"like\":\"sum\", \"comentario\":\"sum\", \"id\": \"count\"  }).orderBy(\"fecha_mes\"))\n",
        "display(df.groupBy(\"fecha_hora_dia_semana\").agg({\"totalViews\":\"sum\",\"like\":\"sum\", \"comentario\":\"sum\", \"id\": \"count\"  }).orderBy(\"fecha_hora_dia_semana\"))\n",
        "display(df.groupBy(\"fecha_hora_dia_semana\").pivot(\"fecha_anio\").count().orderBy(\"fecha_hora_dia_semana\"))\n",
        "\n",
        "print(\"_______________________________________________________________________________________\")\n",
        "\n",
        "#df.select(max(\"comentario\")).show()\n"
      ],
      "outputs": [
        {
          "output_type": "display_data",
          "data": {
            "application/vnd.livy.statement-meta+json": {
              "spark_pool": "apaches",
              "statement_id": 7,
              "statement_ids": [
                7
              ],
              "state": "finished",
              "livy_statement_state": "available",
              "spark_jobs": null,
              "session_id": "0",
              "normalized_state": "finished",
              "queued_time": "2024-10-20T09:51:24.2167373Z",
              "session_start_time": null,
              "execution_start_time": "2024-10-20T09:51:24.4193659Z",
              "execution_finish_time": "2024-10-20T09:51:30.0535106Z",
              "parent_msg_id": "500cce95-3794-4c05-a6fb-c62e5e4e6d5d"
            },
            "text/plain": "StatementMeta(apaches, 0, 7, Finished, Available, Finished)"
          },
          "metadata": {}
        },
        {
          "output_type": "display_data",
          "data": {
            "application/vnd.synapse.widget-view+json": {
              "widget_id": "0f1c15f2-cc1c-4596-9f07-d343057dc937",
              "widget_type": "Synapse.DataFrame"
            },
            "text/plain": "SynapseWidget(Synapse.DataFrame, 0f1c15f2-cc1c-4596-9f07-d343057dc937)"
          },
          "metadata": {}
        },
        {
          "output_type": "display_data",
          "data": {
            "application/vnd.synapse.widget-view+json": {
              "widget_id": "7f8996c9-a323-4dfd-9324-ab3f2418484e",
              "widget_type": "Synapse.DataFrame"
            },
            "text/plain": "SynapseWidget(Synapse.DataFrame, 7f8996c9-a323-4dfd-9324-ab3f2418484e)"
          },
          "metadata": {}
        },
        {
          "output_type": "display_data",
          "data": {
            "application/vnd.synapse.widget-view+json": {
              "widget_id": "d7f794dc-6a55-4db0-9153-a61577879db3",
              "widget_type": "Synapse.DataFrame"
            },
            "text/plain": "SynapseWidget(Synapse.DataFrame, d7f794dc-6a55-4db0-9153-a61577879db3)"
          },
          "metadata": {}
        },
        {
          "output_type": "display_data",
          "data": {
            "application/vnd.synapse.widget-view+json": {
              "widget_id": "818257e7-6f4e-46e7-82b6-a245b0202cac",
              "widget_type": "Synapse.DataFrame"
            },
            "text/plain": "SynapseWidget(Synapse.DataFrame, 818257e7-6f4e-46e7-82b6-a245b0202cac)"
          },
          "metadata": {}
        },
        {
          "output_type": "stream",
          "name": "stdout",
          "text": [
            "_______________________________________________________________________________________\n"
          ]
        }
      ],
      "execution_count": 6,
      "metadata": {
        "collapsed": false
      }
    },
    {
      "cell_type": "code",
      "source": [],
      "outputs": [],
      "execution_count": null,
      "metadata": {}
    },
    {
      "cell_type": "code",
      "source": [],
      "outputs": [],
      "execution_count": null,
      "metadata": {}
    },
    {
      "cell_type": "code",
      "source": [],
      "outputs": [],
      "execution_count": null,
      "metadata": {}
    },
    {
      "cell_type": "code",
      "source": [],
      "outputs": [],
      "execution_count": null,
      "metadata": {}
    }
  ],
  "metadata": {
    "kernelspec": {
      "name": "synapse_pyspark",
      "language": "Python",
      "display_name": "Synapse PySpark"
    },
    "language_info": {
      "name": "python"
    },
    "kernel_info": {
      "name": "synapse_pyspark"
    },
    "save_output": true,
    "synapse_widget": {
      "version": "0.1",
      "state": {
        "0f1c15f2-cc1c-4596-9f07-d343057dc937": {
          "type": "Synapse.DataFrame",
          "sync_state": {
            "table": {
              "rows": [
                {
                  "0": "fecha",
                  "3": "1"
                },
                {
                  "0": "2024",
                  "1": "3908452.0",
                  "2": "1.2595739E8",
                  "3": "336",
                  "4": "56108.0"
                },
                {
                  "0": "2023",
                  "1": "3509190.0",
                  "2": "9.5067776E7",
                  "3": "363",
                  "4": "36456.0"
                },
                {
                  "0": "2022",
                  "1": "180628.0",
                  "2": "8576601.0",
                  "3": "58",
                  "4": "4959.0"
                },
                {
                  "0": "2021",
                  "1": "20816.0",
                  "2": "478736.0",
                  "3": "13",
                  "4": "439.0"
                },
                {
                  "0": "2020",
                  "1": "21502.0",
                  "2": "315269.0",
                  "3": "17",
                  "4": "631.0"
                },
                {
                  "0": "2019",
                  "1": "2251.0",
                  "2": "24663.0",
                  "3": "2",
                  "4": "121.0"
                },
                {
                  "0": "2018",
                  "1": "507.0",
                  "2": "11678.0",
                  "3": "1",
                  "4": "43.0"
                },
                {
                  "0": "2017",
                  "1": "2716.0",
                  "2": "17358.0",
                  "3": "5",
                  "4": "91.0"
                },
                {
                  "0": "2016",
                  "1": "220.0",
                  "2": "1812.0",
                  "3": "1",
                  "4": "0.0"
                },
                {
                  "0": "2013",
                  "1": "48.0",
                  "2": "0.0",
                  "3": "1",
                  "4": "1.0"
                }
              ],
              "schema": [
                {
                  "key": "0",
                  "name": "fecha_anio",
                  "type": "string"
                },
                {
                  "key": "1",
                  "name": "sum(like)",
                  "type": "double"
                },
                {
                  "key": "2",
                  "name": "sum(totalViews)",
                  "type": "double"
                },
                {
                  "key": "3",
                  "name": "count(id)",
                  "type": "bigint"
                },
                {
                  "key": "4",
                  "name": "sum(comentario)",
                  "type": "double"
                }
              ],
              "truncated": false
            },
            "isSummary": false,
            "language": "scala",
            "wranglerEntryContext": {
              "dataframeType": "pyspark"
            }
          },
          "persist_state": {
            "view": {
              "type": "details",
              "tableOptions": {},
              "chartOptions": {
                "chartType": "bar",
                "aggregationType": "sum",
                "categoryFieldKeys": [
                  "0"
                ],
                "seriesFieldKeys": [
                  "1"
                ],
                "isStacked": false
              }
            }
          }
        },
        "7f8996c9-a323-4dfd-9324-ab3f2418484e": {
          "type": "Synapse.DataFrame",
          "sync_state": {
            "table": {
              "rows": [
                {
                  "3": "1"
                },
                {
                  "0": "01",
                  "1": "2849720.0",
                  "2": "7.6373879E7",
                  "3": "73",
                  "4": "17881.0"
                },
                {
                  "0": "02",
                  "1": "221042.0",
                  "2": "7444571.0",
                  "3": "56",
                  "4": "6391.0"
                },
                {
                  "0": "03",
                  "1": "405724.0",
                  "2": "1.4868345E7",
                  "3": "112",
                  "4": "5133.0"
                },
                {
                  "0": "04",
                  "1": "188848.0",
                  "2": "1.0538415E7",
                  "3": "75",
                  "4": "5390.0"
                },
                {
                  "0": "05",
                  "1": "160244.0",
                  "2": "6064349.0",
                  "3": "69",
                  "4": "6608.0"
                },
                {
                  "0": "06",
                  "1": "176449.0",
                  "2": "5691132.0",
                  "3": "35",
                  "4": "4802.0"
                },
                {
                  "0": "07",
                  "1": "322769.0",
                  "2": "1.0433561E7",
                  "3": "64",
                  "4": "11538.0"
                },
                {
                  "0": "08",
                  "1": "1336308.0",
                  "2": "2.7575894E7",
                  "3": "79",
                  "4": "12270.0"
                },
                {
                  "0": "09",
                  "1": "760194.0",
                  "2": "2.8345345E7",
                  "3": "99",
                  "4": "16600.0"
                },
                {
                  "0": "10",
                  "1": "693599.0",
                  "2": "2.016929E7",
                  "3": "54",
                  "4": "5704.0"
                },
                {
                  "0": "11",
                  "1": "91168.0",
                  "2": "4583878.0",
                  "3": "37",
                  "4": "2434.0"
                },
                {
                  "0": "12",
                  "1": "440265.0",
                  "2": "1.8362624E7",
                  "3": "44",
                  "4": "4098.0"
                }
              ],
              "schema": [
                {
                  "key": "0",
                  "name": "fecha_mes",
                  "type": "string"
                },
                {
                  "key": "1",
                  "name": "sum(like)",
                  "type": "double"
                },
                {
                  "key": "2",
                  "name": "sum(totalViews)",
                  "type": "double"
                },
                {
                  "key": "3",
                  "name": "count(id)",
                  "type": "bigint"
                },
                {
                  "key": "4",
                  "name": "sum(comentario)",
                  "type": "double"
                }
              ],
              "truncated": false
            },
            "isSummary": false,
            "language": "scala",
            "wranglerEntryContext": {
              "dataframeType": "pyspark"
            }
          },
          "persist_state": {
            "view": {
              "type": "details",
              "tableOptions": {},
              "chartOptions": {
                "chartType": "bar",
                "aggregationType": "sum",
                "categoryFieldKeys": [
                  "0"
                ],
                "seriesFieldKeys": [
                  "1"
                ],
                "isStacked": false
              }
            }
          }
        },
        "d7f794dc-6a55-4db0-9153-a61577879db3": {
          "type": "Synapse.DataFrame",
          "sync_state": {
            "table": {
              "rows": [
                {
                  "3": "1"
                },
                {
                  "0": "Friday",
                  "1": "2093851.0",
                  "2": "6.3510721E7",
                  "3": "103",
                  "4": "22600.0"
                },
                {
                  "0": "Monday",
                  "1": "1156284.0",
                  "2": "3.6169255E7",
                  "3": "127",
                  "4": "14661.0"
                },
                {
                  "0": "Saturday",
                  "1": "151170.0",
                  "2": "8469746.0",
                  "3": "55",
                  "4": "4885.0"
                },
                {
                  "0": "Sunday",
                  "1": "228440.0",
                  "2": "1.0209412E7",
                  "3": "78",
                  "4": "7129.0"
                },
                {
                  "0": "Thursday",
                  "1": "2005061.0",
                  "2": "6.5832587E7",
                  "3": "133",
                  "4": "18511.0"
                },
                {
                  "0": "Tuesday",
                  "1": "1400974.0",
                  "2": "2.6165436E7",
                  "3": "137",
                  "4": "12969.0"
                },
                {
                  "0": "Wednesday",
                  "1": "610550.0",
                  "2": "2.0094126E7",
                  "3": "164",
                  "4": "18094.0"
                }
              ],
              "schema": [
                {
                  "key": "0",
                  "name": "fecha_hora_dia_semana",
                  "type": "string"
                },
                {
                  "key": "1",
                  "name": "sum(like)",
                  "type": "double"
                },
                {
                  "key": "2",
                  "name": "sum(totalViews)",
                  "type": "double"
                },
                {
                  "key": "3",
                  "name": "count(id)",
                  "type": "bigint"
                },
                {
                  "key": "4",
                  "name": "sum(comentario)",
                  "type": "double"
                }
              ],
              "truncated": false
            },
            "isSummary": false,
            "language": "scala",
            "wranglerEntryContext": {
              "dataframeType": "pyspark"
            }
          },
          "persist_state": {
            "view": {
              "type": "details",
              "tableOptions": {},
              "chartOptions": {
                "chartType": "bar",
                "aggregationType": "sum",
                "categoryFieldKeys": [
                  "0"
                ],
                "seriesFieldKeys": [
                  "1"
                ],
                "isStacked": false
              }
            }
          }
        },
        "818257e7-6f4e-46e7-82b6-a245b0202cac": {
          "type": "Synapse.DataFrame",
          "sync_state": {
            "table": {
              "rows": [
                {
                  "11": "1"
                },
                {
                  "0": "Friday",
                  "3": "1",
                  "6": "2",
                  "8": "9",
                  "9": "45",
                  "10": "46"
                },
                {
                  "0": "Monday",
                  "5": "1",
                  "6": "4",
                  "7": "1",
                  "8": "10",
                  "9": "53",
                  "10": "58"
                },
                {
                  "0": "Saturday",
                  "1": "1",
                  "8": "2",
                  "9": "30",
                  "10": "22"
                },
                {
                  "0": "Sunday",
                  "3": "3",
                  "6": "4",
                  "7": "2",
                  "8": "4",
                  "9": "31",
                  "10": "34"
                },
                {
                  "0": "Thursday",
                  "3": "1",
                  "6": "1",
                  "7": "3",
                  "8": "12",
                  "9": "62",
                  "10": "54"
                },
                {
                  "0": "Tuesday",
                  "5": "1",
                  "6": "2",
                  "7": "4",
                  "8": "7",
                  "9": "67",
                  "10": "56"
                },
                {
                  "0": "Wednesday",
                  "2": "1",
                  "4": "1",
                  "6": "4",
                  "7": "3",
                  "8": "14",
                  "9": "75",
                  "10": "66"
                }
              ],
              "schema": [
                {
                  "key": "0",
                  "name": "fecha_hora_dia_semana",
                  "type": "string"
                },
                {
                  "key": "1",
                  "name": "2013",
                  "type": "bigint"
                },
                {
                  "key": "2",
                  "name": "2016",
                  "type": "bigint"
                },
                {
                  "key": "3",
                  "name": "2017",
                  "type": "bigint"
                },
                {
                  "key": "4",
                  "name": "2018",
                  "type": "bigint"
                },
                {
                  "key": "5",
                  "name": "2019",
                  "type": "bigint"
                },
                {
                  "key": "6",
                  "name": "2020",
                  "type": "bigint"
                },
                {
                  "key": "7",
                  "name": "2021",
                  "type": "bigint"
                },
                {
                  "key": "8",
                  "name": "2022",
                  "type": "bigint"
                },
                {
                  "key": "9",
                  "name": "2023",
                  "type": "bigint"
                },
                {
                  "key": "10",
                  "name": "2024",
                  "type": "bigint"
                },
                {
                  "key": "11",
                  "name": "fecha",
                  "type": "bigint"
                }
              ],
              "truncated": false
            },
            "isSummary": false,
            "language": "scala",
            "wranglerEntryContext": {
              "dataframeType": "pyspark"
            }
          },
          "persist_state": {
            "view": {
              "type": "details",
              "tableOptions": {},
              "chartOptions": {
                "chartType": "bar",
                "aggregationType": "sum",
                "categoryFieldKeys": [
                  "0"
                ],
                "seriesFieldKeys": [
                  "1"
                ],
                "isStacked": false
              }
            }
          }
        }
      }
    }
  },
  "nbformat": 4,
  "nbformat_minor": 2
}